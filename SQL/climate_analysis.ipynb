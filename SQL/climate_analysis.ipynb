{
 "cells": [
  {
   "cell_type": "markdown",
   "metadata": {},
   "source": [
    "***Precipitation analysis***\n",
    "\n",
    "- Vacation dates: July 20th - July 31st"
   ]
  },
  {
   "cell_type": "code",
   "execution_count": 150,
   "metadata": {},
   "outputs": [],
   "source": [
    "import sqlalchemy\n",
    "from sqlalchemy.ext.automap import automap_base\n",
    "from sqlalchemy.orm import Session\n",
    "from sqlalchemy import create_engine, inspect\n",
    "import pandas as pd\n",
    "from sqlalchemy import func\n",
    "from sqlalchemy import text\n",
    "import datetime as dt\n",
    "import matplotlib.pyplot as plt\n",
    "import seaborn as sns\n",
    "import numpy as np\n",
    "import calendar"
   ]
  },
  {
   "cell_type": "code",
   "execution_count": 2,
   "metadata": {},
   "outputs": [],
   "source": [
    "engine = create_engine(\"sqlite:///hawaii.sqlite\")"
   ]
  },
  {
   "cell_type": "code",
   "execution_count": 3,
   "metadata": {},
   "outputs": [],
   "source": [
    "conn = engine.connect()"
   ]
  },
  {
   "cell_type": "code",
   "execution_count": 4,
   "metadata": {},
   "outputs": [
    {
     "data": {
      "text/plain": [
       "['measurement', 'station']"
      ]
     },
     "execution_count": 4,
     "metadata": {},
     "output_type": "execute_result"
    }
   ],
   "source": [
    "Base = automap_base()\n",
    "Base.prepare(engine, reflect=True)\n",
    "Base.classes.keys()"
   ]
  },
  {
   "cell_type": "code",
   "execution_count": 5,
   "metadata": {},
   "outputs": [],
   "source": [
    "MEASURE = Base.classes.measurement"
   ]
  },
  {
   "cell_type": "code",
   "execution_count": 6,
   "metadata": {},
   "outputs": [],
   "source": [
    "STATION = Base.classes.station"
   ]
  },
  {
   "cell_type": "code",
   "execution_count": 7,
   "metadata": {},
   "outputs": [],
   "source": [
    "session = Session(engine)"
   ]
  },
  {
   "cell_type": "code",
   "execution_count": 8,
   "metadata": {},
   "outputs": [
    {
     "data": {
      "text/plain": [
       "['measurement', 'station']"
      ]
     },
     "execution_count": 8,
     "metadata": {},
     "output_type": "execute_result"
    }
   ],
   "source": [
    "inspector = inspect(engine)\n",
    "inspector.get_table_names()"
   ]
  },
  {
   "cell_type": "code",
   "execution_count": 9,
   "metadata": {},
   "outputs": [
    {
     "name": "stdout",
     "output_type": "stream",
     "text": [
      "id INTEGER\n",
      "station TEXT\n",
      "date TEXT\n",
      "prcp FLOAT\n",
      "tobs INTEGER\n"
     ]
    }
   ],
   "source": [
    "columns = inspector.get_columns('measurement')\n",
    "for c in columns:\n",
    "    print(c['name'], c[\"type\"])"
   ]
  },
  {
   "cell_type": "code",
   "execution_count": 55,
   "metadata": {
    "scrolled": true
   },
   "outputs": [
    {
     "data": {
      "text/plain": [
       "[('2017-07-31', 0.0),\n",
       " ('2017-06-07', 0.01),\n",
       " ('2017-07-10', 0.02),\n",
       " ('2017-05-07', 0.03),\n",
       " ('2017-06-29', 0.04),\n",
       " ('2017-08-07', 0.05),\n",
       " ('2017-08-03', 0.06),\n",
       " ('2017-08-10', 0.07),\n",
       " ('2017-07-04', 0.08),\n",
       " ('2017-08-19', 0.09),\n",
       " ('2017-07-21', 0.1),\n",
       " ('2017-04-27', 0.11),\n",
       " ('2017-02-25', 0.12),\n",
       " ('2017-08-17', 0.13),\n",
       " ('2017-08-12', 0.14),\n",
       " ('2017-08-09', 0.15),\n",
       " ('2017-07-17', 0.16),\n",
       " ('2017-03-24', 0.17),\n",
       " ('2017-07-07', 0.18),\n",
       " ('2017-06-21', 0.19),\n",
       " ('2017-06-30', 0.2),\n",
       " ('2017-07-17', 0.21),\n",
       " ('2017-08-14', 0.22),\n",
       " ('2017-05-09', 0.23),\n",
       " ('2017-06-18', 0.24),\n",
       " ('2017-08-02', 0.25),\n",
       " ('2017-04-03', 0.26),\n",
       " ('2017-07-19', 0.27),\n",
       " ('2017-06-22', 0.28),\n",
       " ('2017-04-14', 0.29),\n",
       " ('2017-07-30', 0.3),\n",
       " ('2017-06-20', 0.31),\n",
       " ('2017-02-22', 0.32),\n",
       " ('2017-07-20', 0.33),\n",
       " ('2017-08-08', 0.34),\n",
       " ('2017-04-23', 0.35),\n",
       " ('2017-06-24', 0.36),\n",
       " ('2017-04-29', 0.37),\n",
       " ('2017-04-15', 0.38),\n",
       " ('2017-07-17', 0.39),\n",
       " ('2017-07-28', 0.4),\n",
       " ('2017-03-05', 0.41),\n",
       " ('2017-08-16', 0.42),\n",
       " ('2017-03-25', 0.43),\n",
       " ('2017-05-23', 0.44),\n",
       " ('2017-08-23', 0.45),\n",
       " ('2017-05-18', 0.46),\n",
       " ('2017-04-16', 0.47),\n",
       " ('2017-03-25', 0.48),\n",
       " ('2017-04-16', 0.49),\n",
       " ('2017-08-22', 0.5),\n",
       " ('2017-03-06', 0.51),\n",
       " ('2017-05-09', 0.52),\n",
       " ('2017-06-10', 0.53),\n",
       " ('2017-03-03', 0.54),\n",
       " ('2017-05-10', 0.55),\n",
       " ('2017-08-21', 0.56),\n",
       " ('2017-03-02', 0.58),\n",
       " ('2017-04-13', 0.59),\n",
       " ('2017-05-15', 0.6),\n",
       " ('2017-07-24', 0.61),\n",
       " ('2017-06-10', 0.62),\n",
       " ('2017-06-13', 0.65),\n",
       " ('2017-02-16', 0.67),\n",
       " ('2017-07-14', 0.68),\n",
       " ('2017-04-14', 0.69),\n",
       " ('2017-07-20', 0.7),\n",
       " ('2017-02-11', 0.73),\n",
       " ('2017-06-11', 0.74),\n",
       " ('2017-04-28', 0.76),\n",
       " ('2017-04-28', 0.79),\n",
       " ('2017-07-23', 0.8),\n",
       " ('2017-06-14', 0.81),\n",
       " ('2017-06-04', 0.82),\n",
       " ('2017-07-24', 0.84),\n",
       " ('2017-05-25', 0.88),\n",
       " ('2017-04-30', 0.89),\n",
       " ('2017-04-15', 0.9),\n",
       " ('2017-03-25', 0.93),\n",
       " ('2017-05-08', 0.95),\n",
       " ('2017-04-18', 0.98),\n",
       " ('2017-05-14', 1.0),\n",
       " ('2017-04-22', 1.01),\n",
       " ('2017-04-30', 1.04),\n",
       " ('2017-04-21', 1.05),\n",
       " ('2017-02-12', 1.07),\n",
       " ('2017-02-08', 1.08),\n",
       " ('2017-05-08', 1.11),\n",
       " ('2017-05-30', 1.12),\n",
       " ('2017-04-21', 1.16),\n",
       " ('2017-04-30', 1.17),\n",
       " ('2017-07-24', 1.19),\n",
       " ('2017-04-30', 1.21),\n",
       " ('2017-04-17', 1.3),\n",
       " ('2017-04-30', 1.31),\n",
       " ('2017-02-07', 1.32),\n",
       " ('2017-04-22', 1.35),\n",
       " ('2017-03-02', 1.45),\n",
       " ('2017-03-02', 1.48),\n",
       " ('2017-05-09', 1.58),\n",
       " ('2017-05-09', 1.62),\n",
       " ('2017-06-15', 1.69),\n",
       " ('2017-02-11', 1.73),\n",
       " ('2017-04-21', 1.74),\n",
       " ('2017-02-07', 1.79),\n",
       " ('2017-02-07', 1.8),\n",
       " ('2017-02-12', 1.83),\n",
       " ('2017-04-21', 1.84),\n",
       " ('2017-03-02', 1.88),\n",
       " ('2017-02-12', 1.91),\n",
       " ('2017-03-01', 2.0),\n",
       " ('2017-04-18', 2.03),\n",
       " ('2017-03-01', 2.12),\n",
       " ('2017-05-24', 2.17),\n",
       " ('2017-03-01', 2.2),\n",
       " ('2017-04-14', 2.3),\n",
       " ('2017-04-21', 2.36),\n",
       " ('2017-02-11', 2.39),\n",
       " ('2017-07-18', 2.4),\n",
       " ('2017-04-28', 2.6),\n",
       " ('2017-02-12', 2.62),\n",
       " ('2017-04-14', 2.82),\n",
       " ('2017-02-13', 2.9),\n",
       " ('2017-02-12', 2.98),\n",
       " ('2017-07-22', 4.0),\n",
       " ('2017-02-11', 5.04),\n",
       " ('2017-04-29', 6.25)]"
      ]
     },
     "execution_count": 55,
     "metadata": {},
     "output_type": "execute_result"
    }
   ],
   "source": [
    "session.query(MEASURE.date, MEASURE.prcp).\\\n",
    "filter(func.strftime(\"%Y-%m-%d\",MEASURE.date) > \"2017-01-31\").group_by(MEASURE.prcp).order_by(MEASURE.prcp).all()"
   ]
  },
  {
   "cell_type": "code",
   "execution_count": 221,
   "metadata": {},
   "outputs": [
    {
     "data": {
      "text/html": [
       "<div>\n",
       "<style scoped>\n",
       "    .dataframe tbody tr th:only-of-type {\n",
       "        vertical-align: middle;\n",
       "    }\n",
       "\n",
       "    .dataframe tbody tr th {\n",
       "        vertical-align: top;\n",
       "    }\n",
       "\n",
       "    .dataframe thead th {\n",
       "        text-align: right;\n",
       "    }\n",
       "</style>\n",
       "<table border=\"1\" class=\"dataframe\">\n",
       "  <thead>\n",
       "    <tr style=\"text-align: right;\">\n",
       "      <th></th>\n",
       "      <th>date</th>\n",
       "      <th>prcp</th>\n",
       "    </tr>\n",
       "  </thead>\n",
       "  <tbody>\n",
       "    <tr>\n",
       "      <th>0</th>\n",
       "      <td>2017-01-02</td>\n",
       "      <td>0.00</td>\n",
       "    </tr>\n",
       "    <tr>\n",
       "      <th>1</th>\n",
       "      <td>2017-01-03</td>\n",
       "      <td>0.00</td>\n",
       "    </tr>\n",
       "    <tr>\n",
       "      <th>2</th>\n",
       "      <td>2017-01-04</td>\n",
       "      <td>0.00</td>\n",
       "    </tr>\n",
       "    <tr>\n",
       "      <th>3</th>\n",
       "      <td>2017-01-05</td>\n",
       "      <td>0.47</td>\n",
       "    </tr>\n",
       "    <tr>\n",
       "      <th>4</th>\n",
       "      <td>2017-01-06</td>\n",
       "      <td>0.10</td>\n",
       "    </tr>\n",
       "    <tr>\n",
       "      <th>5</th>\n",
       "      <td>2017-01-07</td>\n",
       "      <td>0.00</td>\n",
       "    </tr>\n",
       "    <tr>\n",
       "      <th>6</th>\n",
       "      <td>2017-01-08</td>\n",
       "      <td>0.03</td>\n",
       "    </tr>\n",
       "    <tr>\n",
       "      <th>7</th>\n",
       "      <td>2017-01-09</td>\n",
       "      <td>0.00</td>\n",
       "    </tr>\n",
       "    <tr>\n",
       "      <th>8</th>\n",
       "      <td>2017-01-10</td>\n",
       "      <td>0.00</td>\n",
       "    </tr>\n",
       "    <tr>\n",
       "      <th>9</th>\n",
       "      <td>2017-01-11</td>\n",
       "      <td>0.00</td>\n",
       "    </tr>\n",
       "  </tbody>\n",
       "</table>\n",
       "</div>"
      ],
      "text/plain": [
       "         date  prcp\n",
       "0  2017-01-02  0.00\n",
       "1  2017-01-03  0.00\n",
       "2  2017-01-04  0.00\n",
       "3  2017-01-05  0.47\n",
       "4  2017-01-06  0.10\n",
       "5  2017-01-07  0.00\n",
       "6  2017-01-08  0.03\n",
       "7  2017-01-09  0.00\n",
       "8  2017-01-10  0.00\n",
       "9  2017-01-11  0.00"
      ]
     },
     "execution_count": 221,
     "metadata": {},
     "output_type": "execute_result"
    }
   ],
   "source": [
    "L12_df = pd.DataFrame(session.query(MEASURE.date, MEASURE.prcp).\\\n",
    "filter(func.strftime(\"%Y-%m-%d\",MEASURE.date) > \"2017-01-01\").group_by(MEASURE.date).order_by(MEASURE.date).all())\n",
    "L12_df.columns=[\"date\", \"prcp\"]\n",
    "L12_df.head(10)"
   ]
  },
  {
   "cell_type": "code",
   "execution_count": 298,
   "metadata": {},
   "outputs": [
    {
     "data": {
      "image/png": "[encoded data removed]",
      "text/plain": [
       "<matplotlib.figure.Figure at 0x1a229e0eb8>"
      ]
     },
     "metadata": {},
     "output_type": "display_data"
    }
   ],
   "source": [
    "plt.figure(figsize=(15,8))\n",
    "sns.set(style=\"whitegrid\")\n",
    "plt.bar(L12_df[\"date\"], L12_df[\"prcp\"])\n",
    "plt.xlabel(\"Date\")\n",
    "plt.ylabel(\"Precipitation\")\n",
    "plt.xticks(np.arange(1,240, step=5), rotation=45)\n",
    "plt.xlim(1,240)\n",
    "plt.title(\"Precipitation Last Year\", size=30)\n",
    "plt.show()"
   ]
  },
  {
   "cell_type": "code",
   "execution_count": 303,
   "metadata": {},
   "outputs": [
    {
     "data": {
      "text/html": [
       "<div>\n",
       "<style scoped>\n",
       "    .dataframe tbody tr th:only-of-type {\n",
       "        vertical-align: middle;\n",
       "    }\n",
       "\n",
       "    .dataframe tbody tr th {\n",
       "        vertical-align: top;\n",
       "    }\n",
       "\n",
       "    .dataframe thead th {\n",
       "        text-align: right;\n",
       "    }\n",
       "</style>\n",
       "<table border=\"1\" class=\"dataframe\">\n",
       "  <thead>\n",
       "    <tr style=\"text-align: right;\">\n",
       "      <th></th>\n",
       "      <th>prcp</th>\n",
       "    </tr>\n",
       "  </thead>\n",
       "  <tbody>\n",
       "    <tr>\n",
       "      <th>count</th>\n",
       "      <td>234.000000</td>\n",
       "    </tr>\n",
       "    <tr>\n",
       "      <th>mean</th>\n",
       "      <td>0.306838</td>\n",
       "    </tr>\n",
       "    <tr>\n",
       "      <th>std</th>\n",
       "      <td>0.540998</td>\n",
       "    </tr>\n",
       "    <tr>\n",
       "      <th>min</th>\n",
       "      <td>0.000000</td>\n",
       "    </tr>\n",
       "    <tr>\n",
       "      <th>25%</th>\n",
       "      <td>0.000000</td>\n",
       "    </tr>\n",
       "    <tr>\n",
       "      <th>50%</th>\n",
       "      <td>0.080000</td>\n",
       "    </tr>\n",
       "    <tr>\n",
       "      <th>75%</th>\n",
       "      <td>0.415000</td>\n",
       "    </tr>\n",
       "    <tr>\n",
       "      <th>max</th>\n",
       "      <td>4.000000</td>\n",
       "    </tr>\n",
       "  </tbody>\n",
       "</table>\n",
       "</div>"
      ],
      "text/plain": [
       "             prcp\n",
       "count  234.000000\n",
       "mean     0.306838\n",
       "std      0.540998\n",
       "min      0.000000\n",
       "25%      0.000000\n",
       "50%      0.080000\n",
       "75%      0.415000\n",
       "max      4.000000"
      ]
     },
     "execution_count": 303,
     "metadata": {},
     "output_type": "execute_result"
    }
   ],
   "source": [
    "stats =  L12_df.describe()\n",
    "stats"
   ]
  },
  {
   "cell_type": "code",
   "execution_count": 304,
   "metadata": {},
   "outputs": [
    {
     "name": "stdout",
     "output_type": "stream",
     "text": [
      "id INTEGER\n",
      "station TEXT\n",
      "name TEXT\n",
      "latitude FLOAT\n",
      "longitude INTEGER\n",
      "elevation FLOAT\n"
     ]
    }
   ],
   "source": [
    "columns = inspector.get_columns('station')\n",
    "for c in columns:\n",
    "    print(c['name'], c[\"type\"])"
   ]
  },
  {
   "cell_type": "code",
   "execution_count": 415,
   "metadata": {},
   "outputs": [
    {
     "data": {
      "text/plain": [
       "9"
      ]
     },
     "execution_count": 415,
     "metadata": {},
     "output_type": "execute_result"
    }
   ],
   "source": [
    "#calculate the total number of stations.\n",
    "session.query(STATION.station, STATION.id).group_by(STATION.station).count()"
   ]
  },
  {
   "cell_type": "code",
   "execution_count": 432,
   "metadata": {},
   "outputs": [
    {
     "data": {
      "text/html": [
       "<div>\n",
       "<style scoped>\n",
       "    .dataframe tbody tr th:only-of-type {\n",
       "        vertical-align: middle;\n",
       "    }\n",
       "\n",
       "    .dataframe tbody tr th {\n",
       "        vertical-align: top;\n",
       "    }\n",
       "\n",
       "    .dataframe thead th {\n",
       "        text-align: right;\n",
       "    }\n",
       "</style>\n",
       "<table border=\"1\" class=\"dataframe\">\n",
       "  <thead>\n",
       "    <tr style=\"text-align: right;\">\n",
       "      <th></th>\n",
       "      <th>station</th>\n",
       "      <th>tobs</th>\n",
       "    </tr>\n",
       "  </thead>\n",
       "  <tbody>\n",
       "    <tr>\n",
       "      <th>0</th>\n",
       "      <td>USC00511918</td>\n",
       "      <td>64</td>\n",
       "    </tr>\n",
       "    <tr>\n",
       "      <th>1</th>\n",
       "      <td>USC00518838</td>\n",
       "      <td>74</td>\n",
       "    </tr>\n",
       "    <tr>\n",
       "      <th>2</th>\n",
       "      <td>USC00516128</td>\n",
       "      <td>76</td>\n",
       "    </tr>\n",
       "    <tr>\n",
       "      <th>3</th>\n",
       "      <td>USC00513117</td>\n",
       "      <td>77</td>\n",
       "    </tr>\n",
       "    <tr>\n",
       "      <th>4</th>\n",
       "      <td>USC00519281</td>\n",
       "      <td>79</td>\n",
       "    </tr>\n",
       "    <tr>\n",
       "      <th>5</th>\n",
       "      <td>USC00517948</td>\n",
       "      <td>80</td>\n",
       "    </tr>\n",
       "    <tr>\n",
       "      <th>6</th>\n",
       "      <td>USC00519397</td>\n",
       "      <td>81</td>\n",
       "    </tr>\n",
       "    <tr>\n",
       "      <th>7</th>\n",
       "      <td>USC00514830</td>\n",
       "      <td>82</td>\n",
       "    </tr>\n",
       "    <tr>\n",
       "      <th>8</th>\n",
       "      <td>USC00519523</td>\n",
       "      <td>82</td>\n",
       "    </tr>\n",
       "  </tbody>\n",
       "</table>\n",
       "</div>"
      ],
      "text/plain": [
       "       station  tobs\n",
       "0  USC00511918    64\n",
       "1  USC00518838    74\n",
       "2  USC00516128    76\n",
       "3  USC00513117    77\n",
       "4  USC00519281    79\n",
       "5  USC00517948    80\n",
       "6  USC00519397    81\n",
       "7  USC00514830    82\n",
       "8  USC00519523    82"
      ]
     },
     "execution_count": 432,
     "metadata": {},
     "output_type": "execute_result"
    }
   ],
   "source": [
    "#List the stations and observation counts in descending order. Which station has the highest number of observations?\n",
    "stations_df = pd.DataFrame(session.query(MEASURE.station, MEASURE.tobs)\\\n",
    "                           .group_by(MEASURE.station).order_by(MEASURE.tobs).all())\n",
    "stations_df.columns=[\"station\",\"tobs\"]\n",
    "stations_df"
   ]
  },
  {
   "cell_type": "code",
   "execution_count": 437,
   "metadata": {},
   "outputs": [
    {
     "data": {
      "text/html": [
       "<div>\n",
       "<style scoped>\n",
       "    .dataframe tbody tr th:only-of-type {\n",
       "        vertical-align: middle;\n",
       "    }\n",
       "\n",
       "    .dataframe tbody tr th {\n",
       "        vertical-align: top;\n",
       "    }\n",
       "\n",
       "    .dataframe thead th {\n",
       "        text-align: right;\n",
       "    }\n",
       "</style>\n",
       "<table border=\"1\" class=\"dataframe\">\n",
       "  <thead>\n",
       "    <tr style=\"text-align: right;\">\n",
       "      <th></th>\n",
       "      <th>station</th>\n",
       "      <th>tobs</th>\n",
       "      <th>date</th>\n",
       "    </tr>\n",
       "  </thead>\n",
       "  <tbody>\n",
       "    <tr>\n",
       "      <th>0</th>\n",
       "      <td>USC00516128</td>\n",
       "      <td>58</td>\n",
       "      <td>2017-04-30</td>\n",
       "    </tr>\n",
       "    <tr>\n",
       "      <th>1</th>\n",
       "      <td>USC00516128</td>\n",
       "      <td>60</td>\n",
       "      <td>2016-12-16</td>\n",
       "    </tr>\n",
       "    <tr>\n",
       "      <th>2</th>\n",
       "      <td>USC00516128</td>\n",
       "      <td>60</td>\n",
       "      <td>2017-02-02</td>\n",
       "    </tr>\n",
       "    <tr>\n",
       "      <th>3</th>\n",
       "      <td>USC00519281</td>\n",
       "      <td>60</td>\n",
       "      <td>2017-02-03</td>\n",
       "    </tr>\n",
       "    <tr>\n",
       "      <th>4</th>\n",
       "      <td>USC00516128</td>\n",
       "      <td>64</td>\n",
       "      <td>2016-12-15</td>\n",
       "    </tr>\n",
       "  </tbody>\n",
       "</table>\n",
       "</div>"
      ],
      "text/plain": [
       "       station  tobs        date\n",
       "0  USC00516128    58  2017-04-30\n",
       "1  USC00516128    60  2016-12-16\n",
       "2  USC00516128    60  2017-02-02\n",
       "3  USC00519281    60  2017-02-03\n",
       "4  USC00516128    64  2016-12-15"
      ]
     },
     "execution_count": 437,
     "metadata": {},
     "output_type": "execute_result"
    }
   ],
   "source": [
    "#Design a query to retrieve the last 12 months of temperature observation data (tobs)\n",
    "stations_date_df = pd.DataFrame(session.query(MEASURE.station, MEASURE.tobs, MEASURE.date)\\\n",
    "                           .filter(func.strftime(\"%Y-%m-%d\",MEASURE.date) > \"2016-12-01\").group_by(MEASURE.date).order_by(MEASURE.tobs).all())\n",
    "stations_date_df.columns=[\"station\",\"tobs\",\"date\"]\n",
    "stations_date_df.head()"
   ]
  },
  {
   "cell_type": "code",
   "execution_count": 446,
   "metadata": {},
   "outputs": [
    {
     "data": {
      "image/png": "[encoded data removed]",
      "text/plain": [
       "<matplotlib.figure.Figure at 0x1a33b90630>"
      ]
     },
     "metadata": {},
     "output_type": "display_data"
    }
   ],
   "source": [
    "plt.figure(figsize=(10,8))\n",
    "plt.hist(stations_date_df['tobs'], bins=12)\n",
    "plt.legend([\"Tobs\"])\n",
    "plt.ylabel(\"Precipitation\")\n",
    "plt.show()"
   ]
  },
  {
   "cell_type": "code",
   "execution_count": 472,
   "metadata": {},
   "outputs": [
    {
     "data": {
      "text/html": [
       "<div>\n",
       "<style scoped>\n",
       "    .dataframe tbody tr th:only-of-type {\n",
       "        vertical-align: middle;\n",
       "    }\n",
       "\n",
       "    .dataframe tbody tr th {\n",
       "        vertical-align: top;\n",
       "    }\n",
       "\n",
       "    .dataframe thead th {\n",
       "        text-align: right;\n",
       "    }\n",
       "</style>\n",
       "<table border=\"1\" class=\"dataframe\">\n",
       "  <thead>\n",
       "    <tr style=\"text-align: right;\">\n",
       "      <th></th>\n",
       "      <th>tobs</th>\n",
       "    </tr>\n",
       "  </thead>\n",
       "  <tbody>\n",
       "    <tr>\n",
       "      <th>count</th>\n",
       "      <td>265.000000</td>\n",
       "    </tr>\n",
       "    <tr>\n",
       "      <th>mean</th>\n",
       "      <td>71.732075</td>\n",
       "    </tr>\n",
       "    <tr>\n",
       "      <th>std</th>\n",
       "      <td>4.233693</td>\n",
       "    </tr>\n",
       "    <tr>\n",
       "      <th>min</th>\n",
       "      <td>58.000000</td>\n",
       "    </tr>\n",
       "    <tr>\n",
       "      <th>25%</th>\n",
       "      <td>69.000000</td>\n",
       "    </tr>\n",
       "    <tr>\n",
       "      <th>50%</th>\n",
       "      <td>72.000000</td>\n",
       "    </tr>\n",
       "    <tr>\n",
       "      <th>75%</th>\n",
       "      <td>75.000000</td>\n",
       "    </tr>\n",
       "    <tr>\n",
       "      <th>max</th>\n",
       "      <td>83.000000</td>\n",
       "    </tr>\n",
       "  </tbody>\n",
       "</table>\n",
       "</div>"
      ],
      "text/plain": [
       "             tobs\n",
       "count  265.000000\n",
       "mean    71.732075\n",
       "std      4.233693\n",
       "min     58.000000\n",
       "25%     69.000000\n",
       "50%     72.000000\n",
       "75%     75.000000\n",
       "max     83.000000"
      ]
     },
     "execution_count": 472,
     "metadata": {},
     "output_type": "execute_result"
    }
   ],
   "source": [
    "#Write a function called calc_temps that will accept a start date and end date in the format %Y-%m-%d \n",
    "#and return the minimum, average, and maximum temperatures for that range of dates.\n",
    "calc_temps = pd.DataFrame(session.query(MEASURE.tobs, MEASURE.date)\\\n",
    "                           .filter(func.strftime(\"%Y-%m-%d\",MEASURE.date) > \"2016-12-01\")\\\n",
    "    .filter(func.strftime(\"%Y-%m-%d\",MEASURE.date) < \"2017-12-01\").group_by(MEASURE.date)\\\n",
    "    .order_by(MEASURE.tobs).all())\n",
    "calc_temps.columns=[\"tobs\",\"date\"]\n",
    "calc_temps.describe()"
   ]
  },
  {
   "cell_type": "code",
   "execution_count": 486,
   "metadata": {},
   "outputs": [
    {
     "data": {
      "image/png": "[encoded data removed]",
      "text/plain": [
       "<matplotlib.figure.Figure at 0x1a369786a0>"
      ]
     },
     "metadata": {},
     "output_type": "display_data"
    }
   ],
   "source": [
    "#Plot the min, avg, and max temperature from your previous query as a bar chart.\n",
    "plt.boxplot(calc_temps[\"tobs\"], patch_artist=True)\n",
    "plt.tight_layout()\n",
    "plt.show()"
   ]
  },
  {
   "cell_type": "code",
   "execution_count": null,
   "metadata": {},
   "outputs": [],
   "source": []
  }
 ],
 "metadata": {
  "kernelspec": {
   "display_name": "Python [conda env:snakes]",
   "language": "python",
   "name": "conda-env-snakes-py"
  },
  "language_info": {
   "codemirror_mode": {
    "name": "ipython",
    "version": 3
   },
   "file_extension": ".py",
   "mimetype": "text/x-python",
   "name": "python",
   "nbconvert_exporter": "python",
   "pygments_lexer": "ipython3",
   "version": "3.6.4"
  }
 },
 "nbformat": 4,
 "nbformat_minor": 2
}
