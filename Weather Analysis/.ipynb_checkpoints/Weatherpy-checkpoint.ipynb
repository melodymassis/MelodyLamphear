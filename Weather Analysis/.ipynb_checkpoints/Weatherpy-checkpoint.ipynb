{
 "cells": [
  {
   "cell_type": "markdown",
   "metadata": {},
   "source": [
    "**Observed Trends:**\n",
    "\n",
    "* Max temp are highest when closest to the Equator (latitude numbers closest to zero)\n",
    "* There is no defined observable pattern between cloudiness and latitude\n",
    "* Wind Speeds tend to remain below 20mph and anything above that appears to be an outlier"
   ]
  },
  {
   "cell_type": "code",
   "execution_count": 281,
   "metadata": {},
   "outputs": [],
   "source": [
    "# Dependencies\n",
    "import json\n",
    "import requests\n",
    "from api_key_file import api_key\n",
    "from citipy import citipy\n",
    "import numpy as np\n",
    "import requests as req\n",
    "import pandas as pd\n",
    "import matplotlib.pyplot as plt\n",
    "import time\n",
    "import csv\n",
    "import seaborn as sns"
   ]
  },
  {
   "cell_type": "code",
   "execution_count": 282,
   "metadata": {},
   "outputs": [],
   "source": [
    "# Save config information\n",
    "url = \"http://api.openweathermap.org/data/2.5/weather?\"\n",
    "units = \"imperial\" \n",
    "params = {\"appid\": api_key,\n",
    "          \"q\": cities}"
   ]
  },
  {
   "cell_type": "code",
   "execution_count": 283,
   "metadata": {},
   "outputs": [],
   "source": [
    "# Build partial query URL\n",
    "query_url = url + \"appid=\" + api_key + \"&units=\" + units + \"&q=\""
   ]
  },
  {
   "cell_type": "code",
   "execution_count": 284,
   "metadata": {},
   "outputs": [
    {
     "data": {
      "text/plain": [
       "['mar del plata',\n",
       " 'bursa',\n",
       " 'lima',\n",
       " 'taolanaro',\n",
       " 'lebu',\n",
       " 'saint-philippe',\n",
       " 'chuy',\n",
       " 'morondava',\n",
       " 'pisco',\n",
       " 'wloszczowa',\n",
       " 'taolanaro',\n",
       " 'mayumba',\n",
       " 'pimentel',\n",
       " 'la rioja']"
      ]
     },
     "execution_count": 284,
     "metadata": {},
     "output_type": "execute_result"
    }
   ],
   "source": [
    "cities = []\n",
    "\n",
    "for coordinate_pair in range(0,14):  \n",
    "    lat = randint(-60, 55)\n",
    "    lon = randint(-95, 60)\n",
    "    city = citipy.nearest_city(lat, lon)\n",
    "    cities.append(city.city_name)\n",
    "\n",
    "cities"
   ]
  },
  {
   "cell_type": "code",
   "execution_count": 285,
   "metadata": {},
   "outputs": [],
   "source": [
    "weather_json_l = []\n",
    "\n",
    "# Loop through the list of cities and perform a request for data on each\n",
    "for city in cities:\n",
    "    response = req.get(query_url + city).json()\n",
    "    weather_json_l.append(response)\n",
    "#     time.sleep(1)"
   ]
  },
  {
   "cell_type": "code",
   "execution_count": 286,
   "metadata": {},
   "outputs": [
    {
     "data": {
      "text/html": [
       "<div>\n",
       "<style scoped>\n",
       "    .dataframe tbody tr th:only-of-type {\n",
       "        vertical-align: middle;\n",
       "    }\n",
       "\n",
       "    .dataframe tbody tr th {\n",
       "        vertical-align: top;\n",
       "    }\n",
       "\n",
       "    .dataframe thead th {\n",
       "        text-align: right;\n",
       "    }\n",
       "</style>\n",
       "<table border=\"1\" class=\"dataframe\">\n",
       "  <thead>\n",
       "    <tr style=\"text-align: right;\">\n",
       "      <th></th>\n",
       "      <th>Cloudiness</th>\n",
       "      <th>Humidity</th>\n",
       "      <th>Latitude</th>\n",
       "      <th>Temperature (Fahrenheit)</th>\n",
       "      <th>Wind Speed</th>\n",
       "      <th>city</th>\n",
       "    </tr>\n",
       "  </thead>\n",
       "  <tbody>\n",
       "    <tr>\n",
       "      <th>0</th>\n",
       "      <td>48</td>\n",
       "      <td>91</td>\n",
       "      <td>-34.42</td>\n",
       "      <td>55.20</td>\n",
       "      <td>3.15</td>\n",
       "      <td>Mar del Plata</td>\n",
       "    </tr>\n",
       "    <tr>\n",
       "      <th>1</th>\n",
       "      <td>0</td>\n",
       "      <td>53</td>\n",
       "      <td>18.90</td>\n",
       "      <td>69.11</td>\n",
       "      <td>2.15</td>\n",
       "      <td>Bursa</td>\n",
       "    </tr>\n",
       "    <tr>\n",
       "      <th>2</th>\n",
       "      <td>0</td>\n",
       "      <td>66</td>\n",
       "      <td>51.12</td>\n",
       "      <td>14.63</td>\n",
       "      <td>20.80</td>\n",
       "      <td>Lima</td>\n",
       "    </tr>\n",
       "    <tr>\n",
       "      <th>3</th>\n",
       "      <td>24</td>\n",
       "      <td>81</td>\n",
       "      <td>39.51</td>\n",
       "      <td>49.58</td>\n",
       "      <td>3.38</td>\n",
       "      <td>None</td>\n",
       "    </tr>\n",
       "    <tr>\n",
       "      <th>4</th>\n",
       "      <td>40</td>\n",
       "      <td>78</td>\n",
       "      <td>-12.58</td>\n",
       "      <td>75.20</td>\n",
       "      <td>4.70</td>\n",
       "      <td>Lebu</td>\n",
       "    </tr>\n",
       "    <tr>\n",
       "      <th>5</th>\n",
       "      <td>0</td>\n",
       "      <td>60</td>\n",
       "      <td>27.03</td>\n",
       "      <td>45.48</td>\n",
       "      <td>2.71</td>\n",
       "      <td>Saint-Philippe</td>\n",
       "    </tr>\n",
       "    <tr>\n",
       "      <th>6</th>\n",
       "      <td>90</td>\n",
       "      <td>83</td>\n",
       "      <td>5.28</td>\n",
       "      <td>85.33</td>\n",
       "      <td>5.82</td>\n",
       "      <td>Chuy</td>\n",
       "    </tr>\n",
       "    <tr>\n",
       "      <th>7</th>\n",
       "      <td>8</td>\n",
       "      <td>33</td>\n",
       "      <td>-33.21</td>\n",
       "      <td>81.17</td>\n",
       "      <td>9.19</td>\n",
       "      <td>Morondava</td>\n",
       "    </tr>\n",
       "    <tr>\n",
       "      <th>8</th>\n",
       "      <td>76</td>\n",
       "      <td>89</td>\n",
       "      <td>3.34</td>\n",
       "      <td>74.28</td>\n",
       "      <td>4.16</td>\n",
       "      <td>Pisco</td>\n",
       "    </tr>\n",
       "    <tr>\n",
       "      <th>9</th>\n",
       "      <td>24</td>\n",
       "      <td>54</td>\n",
       "      <td>-28.95</td>\n",
       "      <td>88.19</td>\n",
       "      <td>4.16</td>\n",
       "      <td>Wloszczowa</td>\n",
       "    </tr>\n",
       "    <tr>\n",
       "      <th>10</th>\n",
       "      <td>0</td>\n",
       "      <td>90</td>\n",
       "      <td>43.74</td>\n",
       "      <td>30.14</td>\n",
       "      <td>9.64</td>\n",
       "      <td>None</td>\n",
       "    </tr>\n",
       "    <tr>\n",
       "      <th>11</th>\n",
       "      <td>20</td>\n",
       "      <td>76</td>\n",
       "      <td>37.73</td>\n",
       "      <td>51.80</td>\n",
       "      <td>6.93</td>\n",
       "      <td>Mayumba</td>\n",
       "    </tr>\n",
       "    <tr>\n",
       "      <th>12</th>\n",
       "      <td>0</td>\n",
       "      <td>72</td>\n",
       "      <td>33.30</td>\n",
       "      <td>60.80</td>\n",
       "      <td>10.29</td>\n",
       "      <td>Pimentel</td>\n",
       "    </tr>\n",
       "    <tr>\n",
       "      <th>13</th>\n",
       "      <td>40</td>\n",
       "      <td>72</td>\n",
       "      <td>29.06</td>\n",
       "      <td>66.20</td>\n",
       "      <td>14.99</td>\n",
       "      <td>La Rioja</td>\n",
       "    </tr>\n",
       "  </tbody>\n",
       "</table>\n",
       "</div>"
      ],
      "text/plain": [
       "    Cloudiness  Humidity  Latitude  Temperature (Fahrenheit)  Wind Speed  \\\n",
       "0           48        91    -34.42                     55.20        3.15   \n",
       "1            0        53     18.90                     69.11        2.15   \n",
       "2            0        66     51.12                     14.63       20.80   \n",
       "3           24        81     39.51                     49.58        3.38   \n",
       "4           40        78    -12.58                     75.20        4.70   \n",
       "5            0        60     27.03                     45.48        2.71   \n",
       "6           90        83      5.28                     85.33        5.82   \n",
       "7            8        33    -33.21                     81.17        9.19   \n",
       "8           76        89      3.34                     74.28        4.16   \n",
       "9           24        54    -28.95                     88.19        4.16   \n",
       "10           0        90     43.74                     30.14        9.64   \n",
       "11          20        76     37.73                     51.80        6.93   \n",
       "12           0        72     33.30                     60.80       10.29   \n",
       "13          40        72     29.06                     66.20       14.99   \n",
       "\n",
       "              city  \n",
       "0    Mar del Plata  \n",
       "1            Bursa  \n",
       "2             Lima  \n",
       "3             None  \n",
       "4             Lebu  \n",
       "5   Saint-Philippe  \n",
       "6             Chuy  \n",
       "7        Morondava  \n",
       "8            Pisco  \n",
       "9       Wloszczowa  \n",
       "10            None  \n",
       "11         Mayumba  \n",
       "12        Pimentel  \n",
       "13        La Rioja  "
      ]
     },
     "execution_count": 286,
     "metadata": {},
     "output_type": "execute_result"
    }
   ],
   "source": [
    "# Extract data from responses\n",
    "try:\n",
    "    lat_data = [data.get(\"coord\").get(\"lat\") for data in weather_json_l]\n",
    "    temp_data = [data.get(\"main\").get(\"temp\") for data in weather_json_l]\n",
    "    humidity_data = [data.get(\"main\").get(\"humidity\") for data in weather_json_l]\n",
    "    cloud_data = [data.get(\"clouds\").get(\"all\") for data in weather_json_l]\n",
    "    wind_speed = [data.get(\"wind\").get(\"speed\") for data in weather_json_l]\n",
    "    \n",
    "except (AttributeError, ValueError):    \n",
    "    pass\n",
    "\n",
    "city = [data.get(\"name\") for data in weather_json_l]\n",
    "#print(len(lat_data), len(temp_data), len(humidity_data), len(cloud_data), len(wind_speed), len(city))\n",
    "weather_dict = {\"Temperature (Fahrenheit)\": temp_data, \n",
    "                    \"Latitude\": lat_data, \n",
    "                    \"Humidity\": humidity_data, \n",
    "                    \"Cloudiness\": cloud_data,\n",
    "                    \"Wind Speed\": wind_speed,\n",
    "                    \"city\":city}\n",
    "weather_df = pd.DataFrame(weather_dict)\n",
    "\n",
    "weather_df"
   ]
  },
  {
   "cell_type": "code",
   "execution_count": 287,
   "metadata": {},
   "outputs": [],
   "source": [
    "#Save df to CSV\n",
    "weather_df.to_csv(\"Weather_Analysis\")"
   ]
  },
  {
   "cell_type": "code",
   "execution_count": 288,
   "metadata": {},
   "outputs": [
    {
     "data": {
      "image/png": "[encoded data removed]",
      "text/plain": [
       "<matplotlib.figure.Figure at 0x11be22128>"
      ]
     },
     "metadata": {},
     "output_type": "display_data"
    }
   ],
   "source": [
    "#Temperature vs. Latitude\n",
    "# Build a scatter plot for each data type\n",
    "# sns color palette: deep, muted, bright, pastel, dark, colorblind\n",
    "plt.figure(figsize=(9,6))\n",
    "plt.scatter(weather_df[\"Latitude\"], \n",
    "            weather_df[\"Temperature (Fahrenheit)\"], \n",
    "            marker=\"o\", \n",
    "            c=sns.color_palette(\"pastel\", n_colors=1))\n",
    "\n",
    "# Incorporate the other graph properties\n",
    "plt.title(\"Temperature in World Cities\")\n",
    "plt.ylabel(\"Temperature (Fahrenheit)\")\n",
    "plt.xlabel(\"Latitude\")\n",
    "plt.grid(True)\n",
    "\n",
    "# Save the figure\n",
    "plt.savefig(\"TemperatureInWorldCities2.png\")\n",
    "\n",
    "# Show plot\n",
    "plt.show()"
   ]
  },
  {
   "cell_type": "code",
   "execution_count": 289,
   "metadata": {},
   "outputs": [
    {
     "data": {
      "image/png": "[encoded data removed]",
      "text/plain": [
       "<matplotlib.figure.Figure at 0x1a1e264e80>"
      ]
     },
     "metadata": {},
     "output_type": "display_data"
    }
   ],
   "source": [
    "#Temperature vs. Latitude\n",
    "# Build a scatter plot for each data type\n",
    "plt.figure(figsize=(9,6))\n",
    "plt.scatter(weather_df[\"Latitude\"], \n",
    "            weather_df[\"Humidity\"], \n",
    "            marker=\"o\", \n",
    "            c=sns.color_palette(\"pastel\", n_colors=1))\n",
    "\n",
    "# Incorporate the other graph properties\n",
    "plt.title(\"Humidity in World Cities\")\n",
    "plt.ylabel(\"Humidity\")\n",
    "plt.xlabel(\"Latitude\")\n",
    "plt.grid(True)\n",
    "\n",
    "# Save the figure\n",
    "plt.savefig(\"HumidityInWorldCities2.png\")\n",
    "\n",
    "# Show plot\n",
    "plt.show()"
   ]
  },
  {
   "cell_type": "code",
   "execution_count": 290,
   "metadata": {},
   "outputs": [
    {
     "data": {
      "image/png": "[encoded data removed]",
      "text/plain": [
       "<matplotlib.figure.Figure at 0x1a1e158a58>"
      ]
     },
     "metadata": {},
     "output_type": "display_data"
    }
   ],
   "source": [
    "#Temperature vs. Latitude\n",
    "# Build a scatter plot for each data type\n",
    "plt.figure(figsize=(9,6))\n",
    "plt.scatter(weather_df[\"Latitude\"], \n",
    "            weather_df[\"Cloudiness\"], \n",
    "            marker=\"o\", \n",
    "            c=sns.color_palette(\"pastel\", n_colors=1))\n",
    "\n",
    "# Incorporate the other graph properties\n",
    "plt.title(\"Cloudiness in World Cities\")\n",
    "plt.ylabel(\"Cloudiness\")\n",
    "plt.xlabel(\"Latitude\")\n",
    "plt.grid(True)\n",
    "\n",
    "# Save the figure\n",
    "plt.savefig(\"CloudinessInWorldCities2.png\")\n",
    "\n",
    "# Show plot\n",
    "plt.show()"
   ]
  },
  {
   "cell_type": "code",
   "execution_count": 291,
   "metadata": {},
   "outputs": [
    {
     "data": {
      "image/png": "[encoded data removed]",
      "text/plain": [
       "<matplotlib.figure.Figure at 0x11bcdf278>"
      ]
     },
     "metadata": {},
     "output_type": "display_data"
    }
   ],
   "source": [
    "#Temperature vs. Latitude\n",
    "# Build a scatter plot for each data type\n",
    "plt.figure(figsize=(9,6))\n",
    "plt.scatter(weather_df[\"Latitude\"], \n",
    "            weather_df[\"Wind Speed\"], \n",
    "            marker=\"o\", \n",
    "            c=sns.color_palette(\"pastel\", n_colors=1))\n",
    "\n",
    "# Incorporate the other graph properties\n",
    "plt.title(\"Wind Speed in World Cities\")\n",
    "plt.ylabel(\"Wind Speed\")\n",
    "plt.xlabel(\"Latitude\")\n",
    "plt.grid(True)\n",
    "\n",
    "# Save the figure\n",
    "plt.savefig(\"WindSpeedInWorldCities2.png\")\n",
    "\n",
    "# Show plot\n",
    "plt.show()"
   ]
  },
  {
   "cell_type": "code",
   "execution_count": null,
   "metadata": {},
   "outputs": [],
   "source": []
  }
 ],
 "metadata": {
  "kernelspec": {
   "display_name": "Python [conda env:snakes]",
   "language": "python",
   "name": "conda-env-snakes-py"
  },
  "language_info": {
   "codemirror_mode": {
    "name": "ipython",
    "version": 3
   },
   "file_extension": ".py",
   "mimetype": "text/x-python",
   "name": "python",
   "nbconvert_exporter": "python",
   "pygments_lexer": "ipython3",
   "version": "3.6.4"
  }
 },
 "nbformat": 4,
 "nbformat_minor": 2
}
